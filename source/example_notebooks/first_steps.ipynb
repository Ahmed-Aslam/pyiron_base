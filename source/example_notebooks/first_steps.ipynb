{
 "cells": [
  {
   "cell_type": "markdown",
   "metadata": {},
   "source": [
    "# pyiron: First steps"
   ]
  },
  {
   "cell_type": "markdown",
   "metadata": {
    "collapsed": true
   },
   "source": [
    "This section gives a brief introduction about fundamental concepts of pyiron and how they can be used to setup, run and analyze atomic simulations. \n",
    "\n",
    "As a first step we import pyiron as well as numpy for data analysis as well as matplotlib for visualization."
   ]
  },
  {
   "cell_type": "code",
   "execution_count": 1,
   "metadata": {
    "ExecuteTime": {
     "end_time": "2018-02-06T22:53:59.886215Z",
     "start_time": "2018-02-06T22:53:58.508792Z"
    }
   },
   "outputs": [],
   "source": [
    "import numpy as np\n",
    "%matplotlib inline\n",
    "import matplotlib.pylab as plt\n",
    "\n",
    "from pyiron.project import Project"
   ]
  },
  {
   "cell_type": "markdown",
   "metadata": {},
   "source": [
    "The Project object is central in pyiron. It allows to name the project as well as to derive all other objects such as structures, jobs etc. without having to import them. This allows to use code completion *Tab* to find the respective commands:"
   ]
  },
  {
   "cell_type": "code",
   "execution_count": 2,
   "metadata": {
    "ExecuteTime": {
     "end_time": "2018-02-06T22:54:00.837258Z",
     "start_time": "2018-02-06T22:53:59.889232Z"
    }
   },
   "outputs": [
    {
     "data": {
      "application/vnd.jupyter.widget-view+json": {
       "model_id": "38af30c188074af48a4b029ad7644f84",
       "version_major": 2,
       "version_minor": 0
      },
      "text/html": [
       "<p>Failed to display Jupyter Widget of type <code>NGLWidget</code>.</p>\n",
       "<p>\n",
       "  If you're reading this message in the Jupyter Notebook or JupyterLab Notebook, it may mean\n",
       "  that the widgets JavaScript is still loading. If this message persists, it\n",
       "  likely means that the widgets JavaScript library is either not installed or\n",
       "  not enabled. See the <a href=\"https://ipywidgets.readthedocs.io/en/stable/user_install.html\">Jupyter\n",
       "  Widgets Documentation</a> for setup instructions.\n",
       "</p>\n",
       "<p>\n",
       "  If you're reading this message in another frontend (for example, a static\n",
       "  rendering on GitHub or <a href=\"https://nbviewer.jupyter.org/\">NBViewer</a>),\n",
       "  it may mean that your frontend doesn't currently support widgets.\n",
       "</p>\n"
      ],
      "text/plain": [
       "NGLWidget()"
      ]
     },
     "metadata": {},
     "output_type": "display_data"
    }
   ],
   "source": [
    "pr = Project('first_steps')\n",
    "pr.remove_jobs()\n",
    "basis = pr.create_ase_bulk('Al', cubic=True)\n",
    "basis_3x3x3 = basis.repeat([3, 3, 3])\n",
    "basis_3x3x3.plot3d()"
   ]
  },
  {
   "cell_type": "markdown",
   "metadata": {},
   "source": [
    "The above script creates a project directory named 'first_steps'. *create_ase_bulk* use the ASE bulk module to construct an Al fcc crystal in a cubic supercell (*cubic=True*). The structure can be modified - here we extend the original cell to a 3x3x3 supercell (*repeat([3, 3, 3]*). Finally, we plot the structure."
   ]
  },
  {
   "cell_type": "markdown",
   "metadata": {},
   "source": [
    "## Perform a Lammps MD simulation"
   ]
  },
  {
   "cell_type": "markdown",
   "metadata": {},
   "source": [
    "Similar like for the atomic structure the project object allows to construct various simulation jobs. Here we create a Lammps job. We specify a Molecular Dynamics simulation at T=800. To see all available potentials which are compatible to the structure (for our example they must contain Al) and the job type (here Lammps) we call *ham.list_potentials()*."
   ]
  },
  {
   "cell_type": "code",
   "execution_count": 3,
   "metadata": {
    "ExecuteTime": {
     "end_time": "2018-02-06T22:54:00.895306Z",
     "start_time": "2018-02-06T22:54:00.840259Z"
    }
   },
   "outputs": [
    {
     "data": {
      "text/plain": [
       "['Al_lammps_eam',\n",
       " 'Al_lammps_2_eam',\n",
       " 'AlAg_lammps_eam',\n",
       " 'CuAl_lammps_eam',\n",
       " 'ZrAl_lammps_eam',\n",
       " 'ZrCuAl_lammps_eam',\n",
       " 'Al_Fe_eam_fs',\n",
       " 'Al_LEA_eam_alloy',\n",
       " 'MDSL_eam_fs',\n",
       " 'Al1_eam_fs',\n",
       " 'mg_al_set_eam_alloy',\n",
       " 'Al_Mg_eam_fs',\n",
       " 'alpb_setfl_eam_alloy',\n",
       " 'Al90Sm10_MendelevM_2014_eam_fs',\n",
       " 'Al99_eam_alloy',\n",
       " 'Al03_eam_alloy',\n",
       " 'Fictional_Al1_1_eam_fs',\n",
       " 'Fictional_Al1_2_eam_fs',\n",
       " 'Fictional_Al1_3_eam_fs',\n",
       " 'Farkas_Nb_Ti_Al_1996_eam_alloy',\n",
       " 'NiAl02_eam_alloy',\n",
       " 'Mishin_Al_Co_2013_eam_alloy',\n",
       " 'Mishin_Ni_Al_Co_2013_eam_alloy',\n",
       " 'Mishin_updated_Al_Co_2013_eam_alloy',\n",
       " 'Mishin_updated_Ni_Al_Co_2013_eam_alloy',\n",
       " 'NiAlH_jea_eam_alloy',\n",
       " 'NiAl_eam_alloy',\n",
       " 'Mishin_Ni_Al_2009_eam_alloy',\n",
       " 'Zope_Ti_Al_2003_eam_alloy']"
      ]
     },
     "execution_count": 3,
     "metadata": {},
     "output_type": "execute_result"
    }
   ],
   "source": [
    "ham = pr.create_job(job_type=pr.job_type.Lammps, job_name='Al_T800K')\n",
    "ham.structure = basis_3x3x3\n",
    "ham.calc_md(temperature=300, n_ionic_steps=10000)\n",
    "ham.list_potentials()"
   ]
  },
  {
   "cell_type": "markdown",
   "metadata": {},
   "source": [
    "From the above let us we select the first potential."
   ]
  },
  {
   "cell_type": "code",
   "execution_count": 4,
   "metadata": {
    "ExecuteTime": {
     "end_time": "2018-02-06T22:54:07.450195Z",
     "start_time": "2018-02-06T22:54:00.903312Z"
    }
   },
   "outputs": [
    {
     "name": "stdout",
     "output_type": "stream",
     "text": [
      "select potential  Al_lammps_eam\n",
      "The job Al_T800K was saved and received the ID: 773596\n"
     ]
    }
   ],
   "source": [
    "pot = ham.list_potentials()[0]\n",
    "print ('select potential ', pot)\n",
    "ham.potential = pot\n",
    "ham.run()"
   ]
  },
  {
   "cell_type": "markdown",
   "metadata": {},
   "source": [
    "## Analyse the calculation"
   ]
  },
  {
   "cell_type": "markdown",
   "metadata": {},
   "source": [
    "Show the available jobs in the current project:"
   ]
  },
  {
   "cell_type": "code",
   "execution_count": 5,
   "metadata": {
    "ExecuteTime": {
     "end_time": "2018-02-06T22:54:07.468713Z",
     "start_time": "2018-02-06T22:54:07.453196Z"
    }
   },
   "outputs": [
    {
     "data": {
      "text/plain": [
       "['Al_T800K']"
      ]
     },
     "execution_count": 5,
     "metadata": {},
     "output_type": "execute_result"
    }
   ],
   "source": [
    "pr"
   ]
  },
  {
   "cell_type": "markdown",
   "metadata": {},
   "source": [
    "The list shows the (only) job computed so far. To access it we can write:"
   ]
  },
  {
   "cell_type": "code",
   "execution_count": 6,
   "metadata": {
    "ExecuteTime": {
     "end_time": "2018-02-06T22:54:08.005391Z",
     "start_time": "2018-02-06T22:54:07.472714Z"
    }
   },
   "outputs": [
    {
     "data": {
      "text/plain": [
       "{'groups': ['input', 'output'], 'nodes': ['server', 'VERSION', 'NAME', 'TYPE']}"
      ]
     },
     "execution_count": 6,
     "metadata": {},
     "output_type": "execute_result"
    }
   ],
   "source": [
    "ham = pr['Al_T800K']\n",
    "ham"
   ]
  },
  {
   "cell_type": "markdown",
   "metadata": {},
   "source": [
    "Printing the job object (note that in Jupyter we don't have to call a print statement if the variable/object is in the last line). The output lists the variables (nodes) and the directories (groups). To get a list of all variables stored in the generic output we type:"
   ]
  },
  {
   "cell_type": "code",
   "execution_count": 7,
   "metadata": {
    "ExecuteTime": {
     "end_time": "2018-02-06T22:54:08.062430Z",
     "start_time": "2018-02-06T22:54:08.024406Z"
    }
   },
   "outputs": [
    {
     "data": {
      "text/plain": [
       "{'groups': [], 'nodes': ['pressures', 'steps', 'energy_pot', 'forces', 'energy_tot', 'positions', 'volume', 'cells', 'unwrapped_positions', 'time', 'temperatures']}"
      ]
     },
     "execution_count": 7,
     "metadata": {},
     "output_type": "execute_result"
    }
   ],
   "source": [
    "ham['output/generic']"
   ]
  },
  {
   "cell_type": "markdown",
   "metadata": {},
   "source": [
    "To analyze the temperature evolution we plot it as function of the MD step:"
   ]
  },
  {
   "cell_type": "code",
   "execution_count": 8,
   "metadata": {
    "ExecuteTime": {
     "end_time": "2018-02-06T22:54:08.262587Z",
     "start_time": "2018-02-06T22:54:08.064433Z"
    }
   },
   "outputs": [
    {
     "data": {
      "image/png": "[encoded data removed]",
      "text/plain": [
       "<matplotlib.figure.Figure at 0x2ae3f61a47f0>"
      ]
     },
     "metadata": {},
     "output_type": "display_data"
    }
   ],
   "source": [
    "temperatures = ham['output/generic/temperatures']\n",
    "steps = ham['output/generic/steps']\n",
    "plt.plot(steps, temperatures)\n",
    "plt.xlabel('MD step')\n",
    "plt.ylabel('Temperature [K]');"
   ]
  },
  {
   "cell_type": "markdown",
   "metadata": {},
   "source": [
    "In the same way we can plot the trajectories:"
   ]
  },
  {
   "cell_type": "code",
   "execution_count": 9,
   "metadata": {
    "ExecuteTime": {
     "end_time": "2018-02-06T22:54:08.783987Z",
     "start_time": "2018-02-06T22:54:08.265593Z"
    }
   },
   "outputs": [
    {
     "data": {
      "image/png": "[encoded data removed]",
      "text/plain": [
       "<matplotlib.figure.Figure at 0x2ae3f660f748>"
      ]
     },
     "metadata": {},
     "output_type": "display_data"
    }
   ],
   "source": [
    "pos = ham['output/generic/positions']\n",
    "x, y, z = [pos[:, :, i] for i in range(3)]\n",
    "sel = np.abs(z) < 0.1\n",
    "fig, axs = plt.subplots(1,1)\n",
    "axs.scatter(x[sel], y[sel])\n",
    "axs.set_xlabel('x [$\\AA$]')\n",
    "axs.set_ylabel('y [$\\AA$]')\n",
    "axs.set_aspect('equal', 'box');"
   ]
  },
  {
   "cell_type": "markdown",
   "metadata": {},
   "source": [
    "## Perform a series of jobs"
   ]
  },
  {
   "cell_type": "markdown",
   "metadata": {},
   "source": [
    "As a simple example we will reuse the hamilton generated in the last excercise, run it for various temperatures in a NPT ensamble and use the data to plot thermal expansion."
   ]
  },
  {
   "cell_type": "code",
   "execution_count": 10,
   "metadata": {
    "ExecuteTime": {
     "end_time": "2018-02-06T22:54:37.081811Z",
     "start_time": "2018-02-06T22:54:08.789992Z"
    }
   },
   "outputs": [
    {
     "name": "stdout",
     "output_type": "stream",
     "text": [
      "The job Al_T200K was saved and received the ID: 773597\n",
      "The job Al_T400K was saved and received the ID: 773598\n",
      "The job Al_T600K was saved and received the ID: 773599\n",
      "The job Al_T1000K was saved and received the ID: 773600\n"
     ]
    }
   ],
   "source": [
    "for temperature in np.arange(200, 1200, 200):\n",
    "    ham = pr.create_job(pr.job_type.Lammps, 'Al_T{}K'.format(int(temperature)))\n",
    "    ham.structure = basis_3x3x3\n",
    "    ham.potential = pot                \n",
    "    ham.calc_md(temperature=temperature, pressure=0, n_ionic_steps=10000)\n",
    "    ham.run()"
   ]
  },
  {
   "cell_type": "markdown",
   "metadata": {
    "ExecuteTime": {
     "end_time": "2018-02-05T21:28:54.251123Z",
     "start_time": "2018-02-05T21:28:54.237113Z"
    }
   },
   "source": [
    "To inspect the list of jobs in our current project we type (note that the existing job from the previous excercise at 800K has been recognized and not run again):"
   ]
  },
  {
   "cell_type": "code",
   "execution_count": 11,
   "metadata": {
    "ExecuteTime": {
     "end_time": "2018-02-06T22:54:37.111802Z",
     "start_time": "2018-02-06T22:54:37.098786Z"
    }
   },
   "outputs": [
    {
     "data": {
      "text/plain": [
       "['Al_T400K', 'Al_T800K', 'Al_T600K', 'Al_T200K', 'Al_T1000K']"
      ]
     },
     "execution_count": 11,
     "metadata": {},
     "output_type": "execute_result"
    }
   ],
   "source": [
    "pr"
   ]
  },
  {
   "cell_type": "markdown",
   "metadata": {},
   "source": [
    "We can now iterate over the jobs and extract volume and mean temperature:"
   ]
  },
  {
   "cell_type": "code",
   "execution_count": 12,
   "metadata": {
    "ExecuteTime": {
     "end_time": "2018-02-06T22:54:37.423172Z",
     "start_time": "2018-02-06T22:54:37.115804Z"
    }
   },
   "outputs": [
    {
     "data": {
      "image/png": "[encoded data removed]",
      "text/plain": [
       "<matplotlib.figure.Figure at 0x2ae3f619bac8>"
      ]
     },
     "metadata": {},
     "output_type": "display_data"
    }
   ],
   "source": [
    "vol_lst, temp_lst = [], []\n",
    "for ham in pr.iter_jobs(convert_to_object=False):\n",
    "    volumes = ham['output/generic/volume']\n",
    "    temperatures = ham['output/generic/temperatures']\n",
    "    temp_lst.append(np.mean(temperatures[:-20]))\n",
    "    vol_lst.append(np.mean(volumes[:-20]))\n",
    "plt.plot(temp_lst, vol_lst)\n",
    "plt.title('Thermal expansion')\n",
    "plt.xlabel('Temperature [K]')\n",
    "plt.ylabel('Volume [$\\AA^3$]');"
   ]
  },
  {
   "cell_type": "markdown",
   "metadata": {},
   "source": [
    "## Create a series of projects"
   ]
  },
  {
   "cell_type": "markdown",
   "metadata": {},
   "source": [
    "We extend the previous example and compute the thermal expansion for all available Al potentials."
   ]
  },
  {
   "cell_type": "code",
   "execution_count": 13,
   "metadata": {
    "ExecuteTime": {
     "end_time": "2018-02-06T22:56:07.097663Z",
     "start_time": "2018-02-06T22:55:55.053246Z"
    }
   },
   "outputs": [
    {
     "name": "stdout",
     "output_type": "stream",
     "text": [
      "Al_lammps_eam\n",
      "Al_lammps_2_eam\n",
      "AlAg_lammps_eam\n"
     ]
    }
   ],
   "source": [
    "pr = Project('Al_potentials')\n",
    "pot_lst = pr['../first_steps/Al_T200K'].list_potentials()[:3]\n",
    "for pot in pot_lst:\n",
    "    print (pot)\n",
    "    pr_pot = pr.create_group(pot)\n",
    "    for temperature in np.arange(200, 1200, 200):\n",
    "        ham = pr_pot.create_job(pr.job_type.Lammps, 'Al_T{}K'.format(int(temperature)))\n",
    "        ham.structure = basis_3x3x3\n",
    "        ham.potential = pot                \n",
    "        ham.calc_md(temperature=temperature, pressure=0, n_ionic_steps=10000)\n",
    "        ham.run()"
   ]
  },
  {
   "cell_type": "code",
   "execution_count": 14,
   "metadata": {
    "ExecuteTime": {
     "end_time": "2018-02-08T13:41:55.679512Z",
     "start_time": "2018-02-08T13:41:54.620285Z"
    }
   },
   "outputs": [
    {
     "data": {
      "image/png": "[encoded data removed]",
      "text/plain": [
       "<matplotlib.figure.Figure at 0x2ae3f622bbe0>"
      ]
     },
     "metadata": {},
     "output_type": "display_data"
    }
   ],
   "source": [
    "for p in pr.iter_groups():\n",
    "    vol_lst, temp_lst = [], []\n",
    "    for ham in p.iter_jobs(convert_to_object=False):\n",
    "        volumes = ham['output/generic/volume']\n",
    "        temperatures = ham['output/generic/temperatures']\n",
    "        temp_lst.append(np.mean(temperatures[:-20]))\n",
    "        vol_lst.append(np.mean(volumes[:-20]))\n",
    "    plt.plot(temp_lst, vol_lst, label=p.name) \n",
    "plt.legend()    \n",
    "plt.title('Thermal expansion')\n",
    "plt.xlabel('Temperature [K]')\n",
    "plt.ylabel('Volume [$\\AA^3$]');"
   ]
  },
  {
   "cell_type": "code",
   "execution_count": 15,
   "metadata": {
    "ExecuteTime": {
     "end_time": "2018-02-08T13:36:46.449893Z",
     "start_time": "2018-02-08T13:36:44.932458Z"
    }
   },
   "outputs": [
    {
     "data": {
      "application/vnd.jupyter.widget-view+json": {
       "model_id": "dc62c0e6f975404d80f6aee78d2e4014",
       "version_major": 2,
       "version_minor": 0
      },
      "text/html": [
       "<p>Failed to display Jupyter Widget of type <code>NGLWidget</code>.</p>\n",
       "<p>\n",
       "  If you're reading this message in the Jupyter Notebook or JupyterLab Notebook, it may mean\n",
       "  that the widgets JavaScript is still loading. If this message persists, it\n",
       "  likely means that the widgets JavaScript library is either not installed or\n",
       "  not enabled. See the <a href=\"https://ipywidgets.readthedocs.io/en/stable/user_install.html\">Jupyter\n",
       "  Widgets Documentation</a> for setup instructions.\n",
       "</p>\n",
       "<p>\n",
       "  If you're reading this message in another frontend (for example, a static\n",
       "  rendering on GitHub or <a href=\"https://nbviewer.jupyter.org/\">NBViewer</a>),\n",
       "  it may mean that your frontend doesn't currently support widgets.\n",
       "</p>\n"
      ],
      "text/plain": [
       "NGLWidget(count=101)"
      ]
     },
     "metadata": {},
     "output_type": "display_data"
    }
   ],
   "source": [
    "ham = pr[\"../first_steps/Al_T600K\"]\n",
    "view = ham.animate_structure()\n",
    "view"
   ]
  },
  {
   "cell_type": "code",
   "execution_count": null,
   "metadata": {},
   "outputs": [],
   "source": []
  },
  {
   "cell_type": "code",
   "execution_count": null,
   "metadata": {},
   "outputs": [],
   "source": []
  }
 ],
 "metadata": {
  "anaconda-cloud": {},
  "kernelspec": {
   "display_name": "Python [conda root]",
   "language": "python",
   "name": "conda-root-py"
  },
  "language_info": {
   "codemirror_mode": {
    "name": "ipython",
    "version": 3
   },
   "file_extension": ".py",
   "mimetype": "text/x-python",
   "name": "python",
   "nbconvert_exporter": "python",
   "pygments_lexer": "ipython3",
   "version": "3.5.4"
  },
  "latex_envs": {
   "LaTeX_envs_menu_present": true,
   "autocomplete": true,
   "bibliofile": "biblio.bib",
   "cite_by": "apalike",
   "current_citInitial": 1,
   "eqLabelWithNumbers": true,
   "eqNumInitial": 1,
   "hotkeys": {
    "equation": "Ctrl-E",
    "itemize": "Ctrl-I"
   },
   "labels_anchors": false,
   "latex_user_defs": false,
   "report_style_numbering": false,
   "user_envs_cfg": false
  },
  "toc": {
   "nav_menu": {
    "height": "122px",
    "width": "252px"
   },
   "number_sections": true,
   "sideBar": true,
   "skip_h1_title": false,
   "toc_cell": false,
   "toc_position": {},
   "toc_section_display": "block",
   "toc_window_display": true
  }
 },
 "nbformat": 4,
 "nbformat_minor": 2
}
