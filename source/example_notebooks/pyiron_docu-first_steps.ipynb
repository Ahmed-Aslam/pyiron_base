{
 "cells": [
  {
   "cell_type": "markdown",
   "metadata": {},
   "source": [
    "# pyiron: First steps"
   ]
  },
  {
   "cell_type": "markdown",
   "metadata": {
    "collapsed": true
   },
   "source": [
    "This section gives a brief introduction about fundamental concepts of pyiron and how they can be used to setup, run and analyze atomic simulations. \n",
    "\n",
    "As a first step we import pyiron as well as numpy for data analysis and matplotlib for visualization."
   ]
  },
  {
   "cell_type": "code",
   "execution_count": 1,
   "metadata": {
    "ExecuteTime": {
     "end_time": "2018-02-09T18:45:45.068257Z",
     "start_time": "2018-02-09T18:45:43.533004Z"
    }
   },
   "outputs": [
    {
     "name": "stderr",
     "output_type": "stream",
     "text": [
      "C:\\Users\\neugebauer\\Anaconda3\\lib\\site-packages\\h5py\\__init__.py:36: FutureWarning: Conversion of the second argument of issubdtype from `float` to `np.floating` is deprecated. In future, it will be treated as `np.float64 == np.dtype(float).type`.\n",
      "  from ._conv import register_converters as _register_converters\n"
     ]
    }
   ],
   "source": [
    "import numpy as np\n",
    "%matplotlib inline\n",
    "import matplotlib.pylab as plt\n",
    "\n",
    "from pyiron.project import Project"
   ]
  },
  {
   "cell_type": "markdown",
   "metadata": {},
   "source": [
    "The Project object is central in pyiron. It allows to name the project as well as to derive all other objects such as structures, jobs etc. without having to import them. Thus by code completion *Tab* the respective commands can be easily found:"
   ]
  },
  {
   "cell_type": "code",
   "execution_count": 27,
   "metadata": {
    "ExecuteTime": {
     "end_time": "2018-02-09T19:16:27.415559Z",
     "start_time": "2018-02-09T19:16:27.283540Z"
    }
   },
   "outputs": [
    {
     "data": {
      "application/vnd.jupyter.widget-view+json": {
       "model_id": "bbe686aa02b34ea096d5ba3f2a56647b",
       "version_major": 2,
       "version_minor": 0
      },
      "text/plain": [
       "A Jupyter Widget"
      ]
     },
     "metadata": {},
     "output_type": "display_data"
    }
   ],
   "source": [
    "pr = Project('first_steps')\n",
    "basis = pr.create_ase_bulk('Al', cubic=True)\n",
    "basis_3x3x3 = basis.repeat([3, 3, 3])\n",
    "basis_3x3x3.plot3d()"
   ]
  },
  {
   "cell_type": "markdown",
   "metadata": {},
   "source": [
    "The above script creates a project directory named 'first_steps'. *create_ase_bulk* uses the ASE bulk module to construct an Al fcc crystal in a cubic supercell (*cubic=True*). The structure can be modified - here we extend the original cell to a 3x3x3 supercell (*repeat([3, 3, 3]*). Finally, we plot the structure."
   ]
  },
  {
   "cell_type": "markdown",
   "metadata": {},
   "source": [
    "## Perform a Lammps MD simulation"
   ]
  },
  {
   "cell_type": "markdown",
   "metadata": {},
   "source": [
    "Similar like for the atomic structure the project object allows to construct various simulation jobs. Here we create a Lammps job. We specify a Molecular Dynamics simulation at T=800 K. To see all available potentials which are compatible to the structure (for our example they must contain Al) and the job type (here Lammps) we call *ham.list_potentials()*."
   ]
  },
  {
   "cell_type": "code",
   "execution_count": 3,
   "metadata": {
    "ExecuteTime": {
     "end_time": "2018-02-09T18:45:46.155546Z",
     "start_time": "2018-02-09T18:45:45.553946Z"
    }
   },
   "outputs": [
    {
     "data": {
      "text/plain": [
       "['Al_lammps_eam',\n",
       " 'Al_lammps_2_eam',\n",
       " 'AlAg_lammps_eam',\n",
       " 'CuAl_lammps_eam',\n",
       " 'ZrAl_lammps_eam',\n",
       " 'ZrCuAl_lammps_eam',\n",
       " 'Al_Fe_eam_fs',\n",
       " 'Al_LEA_eam_alloy',\n",
       " 'MDSL_eam_fs',\n",
       " 'Al1_eam_fs',\n",
       " 'mg_al_set_eam_alloy',\n",
       " 'Al_Mg_eam_fs',\n",
       " 'alpb_setfl_eam_alloy',\n",
       " 'Al90Sm10_MendelevM_2014_eam_fs',\n",
       " 'Al99_eam_alloy',\n",
       " 'Al03_eam_alloy',\n",
       " 'Fictional_Al1_1_eam_fs',\n",
       " 'Fictional_Al1_2_eam_fs',\n",
       " 'Fictional_Al1_3_eam_fs',\n",
       " 'Farkas_Nb_Ti_Al_1996_eam_alloy',\n",
       " 'NiAl02_eam_alloy',\n",
       " 'Mishin_Al_Co_2013_eam_alloy',\n",
       " 'Mishin_Ni_Al_Co_2013_eam_alloy',\n",
       " 'Mishin_updated_Al_Co_2013_eam_alloy',\n",
       " 'Mishin_updated_Ni_Al_Co_2013_eam_alloy',\n",
       " 'NiAlH_jea_eam_alloy',\n",
       " 'NiAl_eam_alloy',\n",
       " 'Mishin_Ni_Al_2009_eam_alloy',\n",
       " 'Zope_Ti_Al_2003_eam_alloy']"
      ]
     },
     "execution_count": 3,
     "metadata": {},
     "output_type": "execute_result"
    }
   ],
   "source": [
    "ham = pr.create_job(job_type=pr.job_type.Lammps, job_name='Al_T800K')\n",
    "ham.structure = basis_3x3x3\n",
    "ham.calc_md(temperature=300, n_ionic_steps=10000)\n",
    "ham.list_potentials()"
   ]
  },
  {
   "cell_type": "markdown",
   "metadata": {},
   "source": [
    "From the above let us we select the first potential."
   ]
  },
  {
   "cell_type": "code",
   "execution_count": 4,
   "metadata": {
    "ExecuteTime": {
     "end_time": "2018-02-09T18:45:46.735000Z",
     "start_time": "2018-02-09T18:45:46.202421Z"
    }
   },
   "outputs": [
    {
     "name": "stdout",
     "output_type": "stream",
     "text": [
      "select potential  Al_lammps_eam\n"
     ]
    }
   ],
   "source": [
    "pot = ham.list_potentials()[0]\n",
    "print ('select potential ', pot)\n",
    "ham.potential = pot\n",
    "ham.run()"
   ]
  },
  {
   "cell_type": "markdown",
   "metadata": {},
   "source": [
    "## Analyse the calculation"
   ]
  },
  {
   "cell_type": "markdown",
   "metadata": {},
   "source": [
    "Show the available jobs in the current project:"
   ]
  },
  {
   "cell_type": "code",
   "execution_count": 5,
   "metadata": {
    "ExecuteTime": {
     "end_time": "2018-02-09T18:45:46.757140Z",
     "start_time": "2018-02-09T18:45:46.738006Z"
    }
   },
   "outputs": [
    {
     "data": {
      "text/plain": [
       "['Al_T800K', 'Al_T200K', 'Al_T400K', 'Al_T600K', 'Al_T1000K']"
      ]
     },
     "execution_count": 5,
     "metadata": {},
     "output_type": "execute_result"
    }
   ],
   "source": [
    "pr"
   ]
  },
  {
   "cell_type": "markdown",
   "metadata": {},
   "source": [
    "The list shows the (only) job computed so far. To access it we can write:"
   ]
  },
  {
   "cell_type": "code",
   "execution_count": 6,
   "metadata": {
    "ExecuteTime": {
     "end_time": "2018-02-09T18:45:47.358552Z",
     "start_time": "2018-02-09T18:45:46.757140Z"
    }
   },
   "outputs": [
    {
     "data": {
      "text/plain": [
       "{'groups': ['output', 'input'], 'nodes': ['NAME', 'VERSION', 'server', 'TYPE']}"
      ]
     },
     "execution_count": 6,
     "metadata": {},
     "output_type": "execute_result"
    }
   ],
   "source": [
    "ham = pr['Al_T800K']\n",
    "ham"
   ]
  },
  {
   "cell_type": "markdown",
   "metadata": {},
   "source": [
    "Printing the job object (note that in Jupyter we don't have to call a print statement if the variable/object is in the last line). The output lists the variables (nodes) and the directories (groups). To get a list of all variables stored in the generic output we type:"
   ]
  },
  {
   "cell_type": "code",
   "execution_count": 7,
   "metadata": {
    "ExecuteTime": {
     "end_time": "2018-02-09T18:45:47.421055Z",
     "start_time": "2018-02-09T18:45:47.374180Z"
    }
   },
   "outputs": [
    {
     "data": {
      "text/plain": [
       "{'groups': [], 'nodes': ['cells', 'steps', 'time', 'unwrapped_positions', 'energy_pot', 'energy_tot', 'forces', 'volume', 'positions', 'pressures', 'temperatures']}"
      ]
     },
     "execution_count": 7,
     "metadata": {},
     "output_type": "execute_result"
    }
   ],
   "source": [
    "ham['output/generic']"
   ]
  },
  {
   "cell_type": "markdown",
   "metadata": {},
   "source": [
    "An animated 3d plot of the MD trajectories is created by:"
   ]
  },
  {
   "cell_type": "code",
   "execution_count": 8,
   "metadata": {
    "ExecuteTime": {
     "end_time": "2018-02-09T18:45:47.536944Z",
     "start_time": "2018-02-09T18:45:47.421055Z"
    }
   },
   "outputs": [
    {
     "data": {
      "application/vnd.jupyter.widget-view+json": {
       "model_id": "e1bcaef2237142bc88ef9cadf8c8e2f1",
       "version_major": 2,
       "version_minor": 0
      },
      "text/plain": [
       "A Jupyter Widget"
      ]
     },
     "metadata": {},
     "output_type": "display_data"
    }
   ],
   "source": [
    "ham.animate_structure()"
   ]
  },
  {
   "cell_type": "markdown",
   "metadata": {},
   "source": [
    "To analyze the temperature evolution we plot it as function of the MD step:"
   ]
  },
  {
   "cell_type": "code",
   "execution_count": 9,
   "metadata": {
    "ExecuteTime": {
     "end_time": "2018-02-09T18:45:47.775238Z",
     "start_time": "2018-02-09T18:45:47.540953Z"
    }
   },
   "outputs": [
    {
     "data": {
      "image/png": "[encoded data removed]",
      "text/plain": [
       "<matplotlib.figure.Figure at 0x25259223f28>"
      ]
     },
     "metadata": {},
     "output_type": "display_data"
    }
   ],
   "source": [
    "temperatures = ham['output/generic/temperatures']\n",
    "steps = ham['output/generic/steps']\n",
    "plt.plot(steps, temperatures)\n",
    "plt.xlabel('MD step')\n",
    "plt.ylabel('Temperature [K]');"
   ]
  },
  {
   "cell_type": "markdown",
   "metadata": {},
   "source": [
    "In the same way we can plot the trajectories:"
   ]
  },
  {
   "cell_type": "code",
   "execution_count": 10,
   "metadata": {
    "ExecuteTime": {
     "end_time": "2018-02-09T18:45:48.460759Z",
     "start_time": "2018-02-09T18:45:47.775238Z"
    }
   },
   "outputs": [
    {
     "data": {
      "image/png": "[encoded data removed]",
      "text/plain": [
       "<matplotlib.figure.Figure at 0x252591cde48>"
      ]
     },
     "metadata": {},
     "output_type": "display_data"
    }
   ],
   "source": [
    "pos = ham['output/generic/positions']\n",
    "x, y, z = [pos[:, :, i] for i in range(3)]\n",
    "sel = np.abs(z) < 0.1\n",
    "fig, axs = plt.subplots(1,1)\n",
    "axs.scatter(x[sel], y[sel])\n",
    "axs.set_xlabel('x [$\\AA$]')\n",
    "axs.set_ylabel('y [$\\AA$]')\n",
    "axs.set_aspect('equal', 'box');"
   ]
  },
  {
   "cell_type": "markdown",
   "metadata": {},
   "source": [
    "## Perform a series of jobs"
   ]
  },
  {
   "cell_type": "markdown",
   "metadata": {},
   "source": [
    "As a simple example we will reuse the hamilton generated in the last excercise, run it for various temperatures in a NPT ensamble and use the data to plot thermal expansion."
   ]
  },
  {
   "cell_type": "code",
   "execution_count": 11,
   "metadata": {
    "ExecuteTime": {
     "end_time": "2018-02-09T18:45:52.980241Z",
     "start_time": "2018-02-09T18:45:48.460759Z"
    },
    "collapsed": true
   },
   "outputs": [],
   "source": [
    "for temperature in np.arange(200, 1200, 200):\n",
    "    ham = pr.create_job(pr.job_type.Lammps, 'Al_T{}K'.format(int(temperature)))\n",
    "    ham.structure = basis_3x3x3\n",
    "    ham.potential = pot                \n",
    "    ham.calc_md(temperature=temperature, pressure=0, n_ionic_steps=10000)\n",
    "    ham.run()"
   ]
  },
  {
   "cell_type": "markdown",
   "metadata": {
    "ExecuteTime": {
     "end_time": "2018-02-05T21:28:54.251123Z",
     "start_time": "2018-02-05T21:28:54.237113Z"
    }
   },
   "source": [
    "To inspect the list of jobs in our current project we type (note that the existing job from the previous excercise at 800K has been recognized and not run again):"
   ]
  },
  {
   "cell_type": "code",
   "execution_count": 12,
   "metadata": {
    "ExecuteTime": {
     "end_time": "2018-02-09T18:45:53.018003Z",
     "start_time": "2018-02-09T18:45:53.002374Z"
    }
   },
   "outputs": [
    {
     "data": {
      "text/plain": [
       "['Al_T800K', 'Al_T200K', 'Al_T400K', 'Al_T600K', 'Al_T1000K']"
      ]
     },
     "execution_count": 12,
     "metadata": {},
     "output_type": "execute_result"
    }
   ],
   "source": [
    "pr"
   ]
  },
  {
   "cell_type": "markdown",
   "metadata": {},
   "source": [
    "We can now iterate over the jobs and extract volume and mean temperature:"
   ]
  },
  {
   "cell_type": "code",
   "execution_count": 13,
   "metadata": {
    "ExecuteTime": {
     "end_time": "2018-02-09T18:45:53.318797Z",
     "start_time": "2018-02-09T18:45:53.018003Z"
    }
   },
   "outputs": [
    {
     "data": {
      "image/png": "[encoded data removed]",
      "text/plain": [
       "<matplotlib.figure.Figure at 0x2525b5cad68>"
      ]
     },
     "metadata": {},
     "output_type": "display_data"
    }
   ],
   "source": [
    "vol_lst, temp_lst = [], []\n",
    "for ham in pr.iter_jobs(convert_to_object=False):\n",
    "    volumes = ham['output/generic/volume']\n",
    "    temperatures = ham['output/generic/temperatures']\n",
    "    temp_lst.append(np.mean(temperatures[:-20]))\n",
    "    vol_lst.append(np.mean(volumes[:-20]))\n",
    "plt.plot(temp_lst, vol_lst)\n",
    "plt.title('Thermal expansion')\n",
    "plt.xlabel('Temperature [K]')\n",
    "plt.ylabel('Volume [$\\AA^3$]');"
   ]
  },
  {
   "cell_type": "markdown",
   "metadata": {},
   "source": [
    "## Create a series of projects"
   ]
  },
  {
   "cell_type": "markdown",
   "metadata": {},
   "source": [
    "We extend the previous example and compute the thermal expansion for all available Al potentials."
   ]
  },
  {
   "cell_type": "code",
   "execution_count": 25,
   "metadata": {
    "ExecuteTime": {
     "end_time": "2018-02-09T19:08:52.655127Z",
     "start_time": "2018-02-09T19:08:52.204370Z"
    }
   },
   "outputs": [
    {
     "name": "stdout",
     "output_type": "stream",
     "text": [
      "Al_lammps_eam\n",
      "Al_lammps_2_eam\n",
      "AlAg_lammps_eam\n"
     ]
    }
   ],
   "source": [
    "pr = Project('Al_potentials')\n",
    "pot_lst = pr['../first_steps/Al_T200K'].load_object().list_potentials()[:3]\n",
    "for pot in pot_lst:\n",
    "    print (pot)\n",
    "    pr_pot = pr.create_group(pot)\n",
    "    for temperature in np.arange(200, 1200, 200):\n",
    "        ham = pr_pot.create_job(pr.job_type.Lammps, 'Al_T{}K'.format(int(temperature)))\n",
    "        ham.structure = basis_3x3x3\n",
    "        ham.potential = pot                \n",
    "        ham.calc_md(temperature=temperature, pressure=0, n_ionic_steps=10000)\n",
    "        ham.run()"
   ]
  },
  {
   "cell_type": "code",
   "execution_count": 22,
   "metadata": {
    "ExecuteTime": {
     "end_time": "2018-02-09T19:06:48.174525Z",
     "start_time": "2018-02-09T19:06:47.626146Z"
    }
   },
   "outputs": [
    {
     "data": {
      "image/png": "[encoded data removed]",
      "text/plain": [
       "<matplotlib.figure.Figure at 0x2525b53ee10>"
      ]
     },
     "metadata": {},
     "output_type": "display_data"
    }
   ],
   "source": [
    "for p in pr.iter_groups():\n",
    "    vol_lst, temp_lst = [], []\n",
    "    for out in p.iter_jobs(path='output/generic'):\n",
    "        volumes = out['volume']\n",
    "        temperatures = out['temperatures']\n",
    "        temp_lst.append(np.mean(temperatures[:-20]))\n",
    "        vol_lst.append(np.mean(volumes[:-20]))\n",
    "    plt.plot(temp_lst, vol_lst, label=p.name) \n",
    "plt.legend()    \n",
    "plt.title('Thermal expansion')\n",
    "plt.xlabel('Temperature [K]')\n",
    "plt.ylabel('Volume [$\\AA^3$]');"
   ]
  },
  {
   "cell_type": "code",
   "execution_count": null,
   "metadata": {
    "collapsed": true
   },
   "outputs": [],
   "source": []
  }
 ],
 "metadata": {
  "anaconda-cloud": {},
  "kernelspec": {
   "display_name": "Python [conda root]",
   "language": "python",
   "name": "conda-root-py"
  },
  "language_info": {
   "codemirror_mode": {
    "name": "ipython",
    "version": 3
   },
   "file_extension": ".py",
   "mimetype": "text/x-python",
   "name": "python",
   "nbconvert_exporter": "python",
   "pygments_lexer": "ipython3",
   "version": "3.5.4"
  },
  "latex_envs": {
   "LaTeX_envs_menu_present": true,
   "autocomplete": true,
   "bibliofile": "biblio.bib",
   "cite_by": "apalike",
   "current_citInitial": 1,
   "eqLabelWithNumbers": true,
   "eqNumInitial": 1,
   "hotkeys": {
    "equation": "Ctrl-E",
    "itemize": "Ctrl-I"
   },
   "labels_anchors": false,
   "latex_user_defs": false,
   "report_style_numbering": false,
   "user_envs_cfg": false
  },
  "toc": {
   "colors": {
    "hover_highlight": "#DAA520",
    "navigate_num": "#000000",
    "navigate_text": "#333333",
    "running_highlight": "#FF0000",
    "selected_highlight": "#FFD700",
    "sidebar_border": "#EEEEEE",
    "wrapper_background": "#FFFFFF"
   },
   "moveMenuLeft": true,
   "nav_menu": {
    "height": "122px",
    "width": "252px"
   },
   "navigate_menu": true,
   "number_sections": true,
   "sideBar": true,
   "threshold": 4,
   "toc_cell": false,
   "toc_section_display": "block",
   "toc_window_display": false,
   "widenNotebook": false
  }
 },
 "nbformat": 4,
 "nbformat_minor": 2
}
