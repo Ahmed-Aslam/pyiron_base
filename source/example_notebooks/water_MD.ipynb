{
 "cells": [
  {
   "cell_type": "markdown",
   "metadata": {},
   "source": [
    "# Molecular dynamics simulations of a water slab\n",
    "\n",
    "In this example, we will try to perform molecular dynamics of a water slab using the simple interatomic TIP3P potential\n",
    "([W. L. Jorgensen et. al.](https://doi.org/10.1063/1.445869)) and [LAMMPS](http://lammps.sandia.gov/)"
   ]
  },
  {
   "cell_type": "markdown",
   "metadata": {},
   "source": [
    "## Creating the initial structure\n",
    "\n",
    "In the field of computational electrochemistry, the study of metal/water interfaces are very important. We would therefore like to create slabs that are commensurable with the metal slab (in the lateral directions). In this example, we would use the orthogonal 3$\\times$4 Mg(0001) surface slab as a reference to set the lateral dimensions of our water slab"
   ]
  },
  {
   "cell_type": "code",
   "execution_count": 1,
   "metadata": {},
   "outputs": [],
   "source": [
    "import numpy as np\n",
    "%matplotlib inline \n",
    "import matplotlib.pylab as plt\n",
    "from pyiron_atomistics.structure.atoms import Atoms\n",
    "from pyiron_atomistics.structure.periodic_table import PeriodicTable\n",
    "from pyiron.project import Project\n",
    "import matplotlib\n",
    "import ase.units as units\n",
    "import pandas as pd\n",
    "from numpy import in1d"
   ]
  },
  {
   "cell_type": "code",
   "execution_count": 2,
   "metadata": {},
   "outputs": [],
   "source": [
    "pr = Project(\"tip3p_water\")"
   ]
  },
  {
   "cell_type": "code",
   "execution_count": 3,
   "metadata": {},
   "outputs": [],
   "source": [
    "a = 3.19158\n",
    "c = 5.18504\n",
    "\n",
    "# Dummy Mg0001 lattice\n",
    "Mg_0001 = pr.create_surface(element=\"Mg\", size=(3, 4, 3), surface_type=\"hcp0001\", a=a, c=c, orthogonal=True, vacuum=10)\n"
   ]
  },
  {
   "cell_type": "markdown",
   "metadata": {},
   "source": [
    "Now we define a function that creates a water slab and the interface based on the required dimensions of the metal slab, the number of water molecules required and the density of the water slab. We create a very approximate structure in the beginning"
   ]
  },
  {
   "cell_type": "code",
   "execution_count": 4,
   "metadata": {},
   "outputs": [],
   "source": [
    "def setup_water_interface(surface, n_water=16, density=1.0, both_sides=True, intermediate_vacuum=1.5):\n",
    "        density *= 1.0e6  # g/m3\n",
    "        mass = 18.015 / units.mol  # g\n",
    "        vol_h2o = mass / density * 1e30  # angstrom ^3\n",
    "        scaling_factor = (surface.get_volume() / vol_h2o)\n",
    "        cell = surface.cell.copy()\n",
    "        cell[2] *= scaling_factor\n",
    "        length = np.linalg.norm(cell[2])\n",
    "        dx = 0.7\n",
    "        r_O = [0, 0, 0]\n",
    "        r_H1 = [dx, dx, 0]\n",
    "        r_H2 = [-dx, dx, 0]\n",
    "        n = int(round(n_water ** (1. / 3.)))\n",
    "        reduced_cell =  np.abs(cell) ** (1. / n, 1. / n, 1. / n )\n",
    "        water = Atoms(elements=['H', 'H', 'O'], positions=[r_H1, r_H2, r_O], cell=reduced_cell)\n",
    "        water.set_repeat((n, n, n))\n",
    "        water.set_relative()\n",
    "        water.cell[0:2] = surface.cell[0:2].copy()\n",
    "        water_mass = np.average(water.get_masses()) * len(water) / units.mol\n",
    "        reqd_volume = water_mass / density * 1e30\n",
    "        scaling_factor = (reqd_volume / water.get_volume())\n",
    "        # Setting relative coordinates so that the positions also scale with the cell size\n",
    "        water.set_relative()\n",
    "        water.cell[2, 2] *= scaling_factor\n",
    "        length = np.linalg.norm(water.cell[2])\n",
    "        print(\"Density in g/cc:\", water_mass / water.get_volume() * 1e24)\n",
    "        water.set_absolute()\n",
    "        water_structure = water.copy()\n",
    "        surface.set_absolute()\n",
    "        if both_sides:\n",
    "            d = water.cell[2, 2] - np.max(water.positions[:, 2])\n",
    "            total_length = 2 * np.max(surface.positions[:, 2]\n",
    "                                     ) + water.cell[2, 2] + (2* intermediate_vacuum)\n",
    "            surface_left = surface.copy()\n",
    "            surface_left.set_absolute()\n",
    "            surface_left.cell[2, 2] = total_length\n",
    "            water.cell[2, 2] = total_length\n",
    "            water.positions[:, 2] += np.max(surface_left.positions[:, 2]\n",
    "                                           ) +  2 * intermediate_vacuum\n",
    "            basis = surface_left + water \n",
    "            surface_right = surface_left.copy()\n",
    "            surface_right.positions[:, 2] += np.max(basis.positions[:, 2]) + d \n",
    "            basis += surface_right\n",
    "        else:\n",
    "            total_length = np.max(surface.positions[:, 2]) + np.max(\n",
    "                water.positions[:, 2]) + 2* intermediate_vacuum\n",
    "            surface_left = surface.copy()\n",
    "            surface_left.set_absolute()\n",
    "            surface_left.cell[2, 2] = total_length\n",
    "            water.cell[2, 2] = total_length\n",
    "            water.positions[:, 2] += np.max(surface_left.positions[:, 2]\n",
    "                                           ) + intermediate_vacuum\n",
    "            basis = surface_left + water\n",
    "        return basis, water_structure"
   ]
  },
  {
   "cell_type": "code",
   "execution_count": 5,
   "metadata": {},
   "outputs": [
    {
     "name": "stdout",
     "output_type": "stream",
     "text": [
      "Density in g/cc: 1.0\n"
     ]
    },
    {
     "data": {
      "application/vnd.jupyter.widget-view+json": {
       "model_id": "7bf9320a2e6a46bd928be6118c8bc93d",
       "version_major": 2,
       "version_minor": 0
      },
      "text/html": [
       "<p>Failed to display Jupyter Widget of type <code>NGLWidget</code>.</p>\n",
       "<p>\n",
       "  If you're reading this message in the Jupyter Notebook or JupyterLab Notebook, it may mean\n",
       "  that the widgets JavaScript is still loading. If this message persists, it\n",
       "  likely means that the widgets JavaScript library is either not installed or\n",
       "  not enabled. See the <a href=\"https://ipywidgets.readthedocs.io/en/stable/user_install.html\">Jupyter\n",
       "  Widgets Documentation</a> for setup instructions.\n",
       "</p>\n",
       "<p>\n",
       "  If you're reading this message in another frontend (for example, a static\n",
       "  rendering on GitHub or <a href=\"https://nbviewer.jupyter.org/\">NBViewer</a>),\n",
       "  it may mean that your frontend doesn't currently support widgets.\n",
       "</p>\n"
      ],
      "text/plain": [
       "NGLWidget()"
      ]
     },
     "metadata": {},
     "output_type": "display_data"
    }
   ],
   "source": [
    "struct, water_structure = setup_water_interface(surface=Mg_0001, n_water=64, density=1.0, \n",
    "                                                both_sides=True, intermediate_vacuum=1.)\n",
    "water_indices = np.append(struct.select_index(\"H\"), struct.select_index(\"O\"))\n",
    "view = water_structure.plot3d()\n",
    "view"
   ]
  },
  {
   "cell_type": "markdown",
   "metadata": {},
   "source": [
    "## Dynamics using a small time step\n",
    "\n",
    "The instance `struct` is the metal/water interface which we will ignore for now . The initial structure in this simulation is obviously a very poor starting point for our calculations. However, dynamics using a small time-step will help us generate a structure which resembles that of water/ice. We will use the NVT ensemble for this calculation"
   ]
  },
  {
   "cell_type": "code",
   "execution_count": 6,
   "metadata": {},
   "outputs": [],
   "source": [
    "temp = 300\n",
    "steps = 1e5\n",
    "time_step = 0.01 # fs"
   ]
  },
  {
   "cell_type": "code",
   "execution_count": 7,
   "metadata": {},
   "outputs": [
    {
     "data": {
      "text/plain": [
       "['H2O_tip3p', 'H2O_tip3p_slab']"
      ]
     },
     "execution_count": 7,
     "metadata": {},
     "output_type": "execute_result"
    }
   ],
   "source": [
    "job_name = \"water_slow\".format(str(int(temp)))\n",
    "ham = pr.create_job(\"Lammps\", job_name)\n",
    "ham.structure = water_structure\n",
    "# Listing available potentials for this structure\n",
    "ham.list_potentials()"
   ]
  },
  {
   "cell_type": "markdown",
   "metadata": {},
   "source": [
    "We will use the `H2O_tip3p` potential. The `H2O_tip3p_slab` should be used if you want to switch the periodic boundary conditions along the z-axis  "
   ]
  },
  {
   "cell_type": "code",
   "execution_count": 8,
   "metadata": {},
   "outputs": [],
   "source": [
    "ham.potential = 'H2O_tip3p'"
   ]
  },
  {
   "cell_type": "code",
   "execution_count": 9,
   "metadata": {},
   "outputs": [],
   "source": [
    "ham.calc_md(temperature=temp, n_ionic_steps=steps, n_print=1000, dt=time_step)"
   ]
  },
  {
   "cell_type": "code",
   "execution_count": 10,
   "metadata": {},
   "outputs": [],
   "source": [
    "ham.run()"
   ]
  },
  {
   "cell_type": "code",
   "execution_count": 11,
   "metadata": {
    "scrolled": true
   },
   "outputs": [
    {
     "data": {
      "application/vnd.jupyter.widget-view+json": {
       "model_id": "ffca9e6bcb1746279c64bc109d2dd88b",
       "version_major": 2,
       "version_minor": 0
      },
      "text/html": [
       "<p>Failed to display Jupyter Widget of type <code>NGLWidget</code>.</p>\n",
       "<p>\n",
       "  If you're reading this message in the Jupyter Notebook or JupyterLab Notebook, it may mean\n",
       "  that the widgets JavaScript is still loading. If this message persists, it\n",
       "  likely means that the widgets JavaScript library is either not installed or\n",
       "  not enabled. See the <a href=\"https://ipywidgets.readthedocs.io/en/stable/user_install.html\">Jupyter\n",
       "  Widgets Documentation</a> for setup instructions.\n",
       "</p>\n",
       "<p>\n",
       "  If you're reading this message in another frontend (for example, a static\n",
       "  rendering on GitHub or <a href=\"https://nbviewer.jupyter.org/\">NBViewer</a>),\n",
       "  it may mean that your frontend doesn't currently support widgets.\n",
       "</p>\n"
      ],
      "text/plain": [
       "NGLWidget(count=101)"
      ]
     },
     "metadata": {},
     "output_type": "display_data"
    }
   ],
   "source": [
    "view = ham.animate_structure()\n",
    "view"
   ]
  },
  {
   "cell_type": "markdown",
   "metadata": {},
   "source": [
    "## Faster dynamics\n",
    "\n",
    "We have obtained a structure that at least resembles a slab of water molecules. Now we can increase the time step to perform dynamics to get a reasonably equilibriated structure "
   ]
  },
  {
   "cell_type": "code",
   "execution_count": 12,
   "metadata": {},
   "outputs": [],
   "source": [
    "# Get the final structure\n",
    "struct = ham.get_structure(iteration_step=-1)\n",
    "# Fold the atoms back into the unitcell\n",
    "struct.center_coordinates_in_unit_cell() \n",
    "time_step = 1\n",
    "steps = 1e5\n",
    "job_name = \"water_fast\".format(str(int(temp)))\n",
    "ham_fast = pr.create_job(\"Lammps\", job_name)\n",
    "ham_fast.structure = struct\n",
    "ham_fast.potential = 'H2O_tip3p'\n",
    "n_print = 10 # output every n_print steps\n",
    "ham_fast.calc_md(temperature=temp, n_ionic_steps=steps, n_print=n_print, dt=time_step)\n",
    "ham_fast.run()"
   ]
  },
  {
   "cell_type": "code",
   "execution_count": 13,
   "metadata": {},
   "outputs": [
    {
     "data": {
      "application/vnd.jupyter.widget-view+json": {
       "model_id": "9acc3ced3a9048c2a658f8fd248a92b1",
       "version_major": 2,
       "version_minor": 0
      },
      "text/html": [
       "<p>Failed to display Jupyter Widget of type <code>NGLWidget</code>.</p>\n",
       "<p>\n",
       "  If you're reading this message in the Jupyter Notebook or JupyterLab Notebook, it may mean\n",
       "  that the widgets JavaScript is still loading. If this message persists, it\n",
       "  likely means that the widgets JavaScript library is either not installed or\n",
       "  not enabled. See the <a href=\"https://ipywidgets.readthedocs.io/en/stable/user_install.html\">Jupyter\n",
       "  Widgets Documentation</a> for setup instructions.\n",
       "</p>\n",
       "<p>\n",
       "  If you're reading this message in another frontend (for example, a static\n",
       "  rendering on GitHub or <a href=\"https://nbviewer.jupyter.org/\">NBViewer</a>),\n",
       "  it may mean that your frontend doesn't currently support widgets.\n",
       "</p>\n"
      ],
      "text/plain": [
       "NGLWidget(count=10001)"
      ]
     },
     "metadata": {},
     "output_type": "display_data"
    }
   ],
   "source": [
    "view = ham_fast.animate_structure()\n",
    "view"
   ]
  },
  {
   "cell_type": "markdown",
   "metadata": {},
   "source": [
    "We can now plot the trajectories"
   ]
  },
  {
   "cell_type": "code",
   "execution_count": 14,
   "metadata": {},
   "outputs": [
    {
     "data": {
      "text/plain": [
       "[<matplotlib.lines.Line2D at 0x2b05d7baf9e8>]"
      ]
     },
     "execution_count": 14,
     "metadata": {},
     "output_type": "execute_result"
    },
    {
     "data": {
      "image/png": "[encoded data removed]",
      "text/plain": [
       "<matplotlib.figure.Figure at 0x2b05d796ba20>"
      ]
     },
     "metadata": {},
     "output_type": "display_data"
    }
   ],
   "source": [
    "plt.plot(ham_fast[\"output/generic/energy_tot\"])"
   ]
  },
  {
   "cell_type": "code",
   "execution_count": 15,
   "metadata": {},
   "outputs": [
    {
     "data": {
      "text/plain": [
       "[<matplotlib.lines.Line2D at 0x2b05d745f3c8>]"
      ]
     },
     "execution_count": 15,
     "metadata": {},
     "output_type": "execute_result"
    },
    {
     "data": {
      "image/png": "[encoded data removed]",
      "text/plain": [
       "<matplotlib.figure.Figure at 0x2b05d796bcc0>"
      ]
     },
     "metadata": {},
     "output_type": "display_data"
    }
   ],
   "source": [
    "plt.plot(ham_fast[\"output/generic/temperatures\"])"
   ]
  },
  {
   "cell_type": "markdown",
   "metadata": {},
   "source": [
    "## Computing neighbors and further analysis\n",
    "\n",
    "We will now use the `get_neighbors()` function to compute structural properties during the course of the simulation. We take advantage of the fact that the TIP3P water model is a rigid water model which means the neighbors need to be indexed only once"
   ]
  },
  {
   "cell_type": "code",
   "execution_count": 16,
   "metadata": {},
   "outputs": [],
   "source": [
    "final_struct = ham_fast.get_structure(iteration_step=-1)\n",
    "\n",
    "# Get the indices based on species\n",
    "O_indices = final_struct.select_index(\"O\")\n",
    "H_indices = final_struct.select_index(\"H\")\n",
    "\n",
    "# Getting only the first two neighbors\n",
    "neighbors = final_struct.get_neighbors(num_neighbors=2)"
   ]
  },
  {
   "cell_type": "markdown",
   "metadata": {},
   "source": [
    "### Distribution of the O-H bond length\n",
    "\n",
    "The immediate two neighbors of every O atom has to be H atoms"
   ]
  },
  {
   "cell_type": "code",
   "execution_count": 17,
   "metadata": {},
   "outputs": [
    {
     "data": {
      "image/png": "[encoded data removed]",
      "text/plain": [
       "<matplotlib.figure.Figure at 0x2b05d7e31c88>"
      ]
     },
     "metadata": {},
     "output_type": "display_data"
    }
   ],
   "source": [
    "bins = np.linspace(0.5, 1.5, 200)\n",
    "_ = plt.hist(np.hstack(neighbors.distances[O_indices]), bins=bins)\n",
    "plt.xlim(0.5, 1.5)\n",
    "plt.xlabel(\"d$_{OH}$ [$\\AA$]\")\n",
    "plt.ylabel(\"Count\");"
   ]
  },
  {
   "cell_type": "markdown",
   "metadata": {},
   "source": [
    "## Distribution of the O-O bond lengths\n",
    "\n",
    "Here we need to compute more neighbors than the nearest 2. We could also do this using a cutoff distance"
   ]
  },
  {
   "cell_type": "code",
   "execution_count": 18,
   "metadata": {},
   "outputs": [],
   "source": [
    "neighbors = final_struct.get_neighbors(cutoff=8)"
   ]
  },
  {
   "cell_type": "code",
   "execution_count": 19,
   "metadata": {},
   "outputs": [],
   "source": [
    "neigh_indices = np.hstack(neighbors.indices[O_indices])\n",
    "neigh_distances = np.hstack(neighbors.distances[O_indices])"
   ]
  },
  {
   "cell_type": "markdown",
   "metadata": {},
   "source": [
    "We now need only the distances between the O atoms. We can exclude the H atoms using a few simple index manipulation steps"
   ]
  },
  {
   "cell_type": "code",
   "execution_count": 20,
   "metadata": {},
   "outputs": [],
   "source": [
    "O_neigh_indices  = in1d(neigh_indices, O_indices)\n",
    "O_neigh_distances = neigh_distances[O_neigh_indices]"
   ]
  },
  {
   "cell_type": "code",
   "execution_count": 21,
   "metadata": {},
   "outputs": [
    {
     "data": {
      "image/png": "[encoded data removed]",
      "text/plain": [
       "<matplotlib.figure.Figure at 0x2b05e0646a90>"
      ]
     },
     "metadata": {},
     "output_type": "display_data"
    }
   ],
   "source": [
    "bins = np.linspace(2, 4, 100)\n",
    "count = plt.hist(O_neigh_distances, bins=bins)\n",
    "plt.xlim(2, 4)\n",
    "plt.xlabel(\"d$_{OO}$ [$\\AA$]\")\n",
    "plt.ylabel(\"Count\");"
   ]
  },
  {
   "cell_type": "code",
   "execution_count": null,
   "metadata": {},
   "outputs": [],
   "source": []
  }
 ],
 "metadata": {
  "kernelspec": {
   "display_name": "Python [conda root]",
   "language": "python",
   "name": "conda-root-py"
  },
  "language_info": {
   "codemirror_mode": {
    "name": "ipython",
    "version": 3
   },
   "file_extension": ".py",
   "mimetype": "text/x-python",
   "name": "python",
   "nbconvert_exporter": "python",
   "pygments_lexer": "ipython3",
   "version": "3.5.4"
  },
  "latex_envs": {
   "LaTeX_envs_menu_present": true,
   "autocomplete": true,
   "bibliofile": "biblio.bib",
   "cite_by": "apalike",
   "current_citInitial": 1,
   "eqLabelWithNumbers": true,
   "eqNumInitial": 1,
   "hotkeys": {
    "equation": "Ctrl-E",
    "itemize": "Ctrl-I"
   },
   "labels_anchors": false,
   "latex_user_defs": false,
   "report_style_numbering": false,
   "user_envs_cfg": false
  },
  "toc": {
   "nav_menu": {},
   "number_sections": true,
   "sideBar": true,
   "skip_h1_title": false,
   "toc_cell": false,
   "toc_position": {},
   "toc_section_display": "block",
   "toc_window_display": false
  }
 },
 "nbformat": 4,
 "nbformat_minor": 2
}
