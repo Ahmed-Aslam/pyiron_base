{
 "cells": [
  {
   "cell_type": "markdown",
   "metadata": {},
   "source": [
    "# Molecular dynamics simulations of a water slab\n",
    "\n",
    "In this example, we will try to perform molecular dynamics of a water slab using the simple interatomic TIP3P potential\n",
    "([W. L. Jorgensen et. al.](https://doi.org/10.1063/1.445869)) and [LAMMPS](http://lammps.sandia.gov/). "
   ]
  },
  {
   "cell_type": "code",
   "execution_count": 1,
   "metadata": {},
   "outputs": [],
   "source": [
    "import numpy as np\n",
    "%matplotlib inline \n",
    "import matplotlib.pylab as plt\n",
    "from pyiron_atomistics.structure.atoms import Atoms\n",
    "from pyiron_atomistics.structure.periodic_table import PeriodicTable\n",
    "from pyiron.project import Project\n",
    "import matplotlib\n",
    "import ase.units as units\n",
    "from numpy import in1d"
   ]
  },
  {
   "cell_type": "code",
   "execution_count": 2,
   "metadata": {},
   "outputs": [],
   "source": [
    "pr = Project(\"tip3p_water\")"
   ]
  },
  {
   "cell_type": "markdown",
   "metadata": {},
   "source": [
    "## Creating the initial structure\n",
    "\n",
    "We will setup a cubic simulation box which will enclose 27 water molecules such that the density is 1 g/cc. This is done by determining the required size of the simulation cell and repeating 27 unit cells of each with one water molecule to match the target density"
   ]
  },
  {
   "cell_type": "code",
   "execution_count": 3,
   "metadata": {},
   "outputs": [
    {
     "data": {
      "application/vnd.jupyter.widget-view+json": {
       "model_id": "5971c978a9d44593988bbd480e1444fc",
       "version_major": 2,
       "version_minor": 0
      },
      "text/html": [
       "<p>Failed to display Jupyter Widget of type <code>NGLWidget</code>.</p>\n",
       "<p>\n",
       "  If you're reading this message in the Jupyter Notebook or JupyterLab Notebook, it may mean\n",
       "  that the widgets JavaScript is still loading. If this message persists, it\n",
       "  likely means that the widgets JavaScript library is either not installed or\n",
       "  not enabled. See the <a href=\"https://ipywidgets.readthedocs.io/en/stable/user_install.html\">Jupyter\n",
       "  Widgets Documentation</a> for setup instructions.\n",
       "</p>\n",
       "<p>\n",
       "  If you're reading this message in another frontend (for example, a static\n",
       "  rendering on GitHub or <a href=\"https://nbviewer.jupyter.org/\">NBViewer</a>),\n",
       "  it may mean that your frontend doesn't currently support widgets.\n",
       "</p>\n"
      ],
      "text/plain": [
       "NGLWidget()"
      ]
     },
     "metadata": {},
     "output_type": "display_data"
    }
   ],
   "source": [
    "density = 1.0e6  # g/m3\n",
    "n_mols = 27\n",
    "\n",
    "# Determining the supercell size size\n",
    "mass = 18.015 * n_mols / units.mol  # g\n",
    "vol_h2o = mass / density * 1e30\n",
    "a = vol_h2o ** (1./3.)\n",
    "\n",
    "# Constructing the unitcell\n",
    "n = int(round(n_mols ** (1. / 3.)))\n",
    "a_unitcell = a * (1./n)\n",
    "dx = 0.7\n",
    "r_O = [0, 0, 0]\n",
    "r_H1 = [dx, dx, 0]\n",
    "r_H2 = [-dx, dx, 0]\n",
    "unit_cell = a_unitcell * np.eye(3)\n",
    "water = Atoms(elements=['H', 'H', 'O'], \n",
    "                      positions=[r_H1, r_H2, r_O], cell=unit_cell)\n",
    "water.set_repeat([n, n, n])\n",
    "water.plot3d()"
   ]
  },
  {
   "cell_type": "code",
   "execution_count": 4,
   "metadata": {},
   "outputs": [
    {
     "data": {
      "text/plain": [
       "'H54O27'"
      ]
     },
     "execution_count": 4,
     "metadata": {},
     "output_type": "execute_result"
    }
   ],
   "source": [
    "water.get_chemical_formula()"
   ]
  },
  {
   "cell_type": "markdown",
   "metadata": {},
   "source": [
    "## Dynamics using a small time step\n",
    "\n",
    "The initial structure in this simulation is obviously a poor starting point for our calculations. However, dynamics using a small time-step will help us generate a structure which resembles that of water/ice (based on the temperature). We will use the NVT ensemble for this calculation"
   ]
  },
  {
   "cell_type": "code",
   "execution_count": 5,
   "metadata": {},
   "outputs": [],
   "source": [
    "temp = 300\n",
    "steps = 1e4\n",
    "time_step = 0.01 # fs"
   ]
  },
  {
   "cell_type": "code",
   "execution_count": 6,
   "metadata": {},
   "outputs": [
    {
     "data": {
      "text/plain": [
       "['H2O_tip3p', 'H2O_tip3p_slab']"
      ]
     },
     "execution_count": 6,
     "metadata": {},
     "output_type": "execute_result"
    }
   ],
   "source": [
    "job_name = \"water_slow\".format(str(int(temp)))\n",
    "ham = pr.create_job(\"Lammps\", job_name)\n",
    "ham.structure = water\n",
    "# Listing available potentials for this structure\n",
    "ham.list_potentials()"
   ]
  },
  {
   "cell_type": "markdown",
   "metadata": {},
   "source": [
    "We will use the `H2O_tip3p` potential. The `H2O_tip3p_slab` should be used if you want to switch the periodic boundary conditions along the z-axis  "
   ]
  },
  {
   "cell_type": "code",
   "execution_count": 7,
   "metadata": {},
   "outputs": [],
   "source": [
    "ham.potential = 'H2O_tip3p'"
   ]
  },
  {
   "cell_type": "code",
   "execution_count": 8,
   "metadata": {},
   "outputs": [],
   "source": [
    "ham.calc_md(temperature=temp, n_ionic_steps=steps, dt=time_step)"
   ]
  },
  {
   "cell_type": "code",
   "execution_count": 9,
   "metadata": {},
   "outputs": [],
   "source": [
    "ham.run()"
   ]
  },
  {
   "cell_type": "code",
   "execution_count": 10,
   "metadata": {
    "scrolled": true
   },
   "outputs": [
    {
     "data": {
      "application/vnd.jupyter.widget-view+json": {
       "model_id": "97ff5ee5709242d7898e2b16d1bdd021",
       "version_major": 2,
       "version_minor": 0
      },
      "text/html": [
       "<p>Failed to display Jupyter Widget of type <code>NGLWidget</code>.</p>\n",
       "<p>\n",
       "  If you're reading this message in the Jupyter Notebook or JupyterLab Notebook, it may mean\n",
       "  that the widgets JavaScript is still loading. If this message persists, it\n",
       "  likely means that the widgets JavaScript library is either not installed or\n",
       "  not enabled. See the <a href=\"https://ipywidgets.readthedocs.io/en/stable/user_install.html\">Jupyter\n",
       "  Widgets Documentation</a> for setup instructions.\n",
       "</p>\n",
       "<p>\n",
       "  If you're reading this message in another frontend (for example, a static\n",
       "  rendering on GitHub or <a href=\"https://nbviewer.jupyter.org/\">NBViewer</a>),\n",
       "  it may mean that your frontend doesn't currently support widgets.\n",
       "</p>\n"
      ],
      "text/plain": [
       "NGLWidget(count=101)"
      ]
     },
     "metadata": {},
     "output_type": "display_data"
    }
   ],
   "source": [
    "view = ham.animate_structure()\n",
    "view"
   ]
  },
  {
   "cell_type": "markdown",
   "metadata": {},
   "source": [
    "## Faster dynamics\n",
    "\n",
    "At the end of this simulation, we have obtained a structure that at least resembles a slab of water molecules. Now we can increase the time step to perform dynamics to get a reasonably equilibriated structure "
   ]
  },
  {
   "cell_type": "code",
   "execution_count": 11,
   "metadata": {},
   "outputs": [],
   "source": [
    "# Get the final structure\n",
    "struct = ham.get_structure(iteration_step=-1)\n",
    "\n",
    "time_step = 1\n",
    "steps = 1e4\n",
    "job_name = \"water_fast\".format(str(int(temp)))\n",
    "ham_fast = pr.create_job(\"Lammps\", job_name)\n",
    "ham_fast.structure = struct\n",
    "ham_fast.potential = 'H2O_tip3p'\n",
    "n_print = 10 # output every n_print steps\n",
    "ham_fast.calc_md(temperature=temp, n_ionic_steps=steps, n_print=n_print, dt=time_step)\n",
    "ham_fast.run()"
   ]
  },
  {
   "cell_type": "code",
   "execution_count": 12,
   "metadata": {},
   "outputs": [
    {
     "data": {
      "application/vnd.jupyter.widget-view+json": {
       "model_id": "e3a2743de78b47cba6c0675d227d8b4f",
       "version_major": 2,
       "version_minor": 0
      },
      "text/html": [
       "<p>Failed to display Jupyter Widget of type <code>NGLWidget</code>.</p>\n",
       "<p>\n",
       "  If you're reading this message in the Jupyter Notebook or JupyterLab Notebook, it may mean\n",
       "  that the widgets JavaScript is still loading. If this message persists, it\n",
       "  likely means that the widgets JavaScript library is either not installed or\n",
       "  not enabled. See the <a href=\"https://ipywidgets.readthedocs.io/en/stable/user_install.html\">Jupyter\n",
       "  Widgets Documentation</a> for setup instructions.\n",
       "</p>\n",
       "<p>\n",
       "  If you're reading this message in another frontend (for example, a static\n",
       "  rendering on GitHub or <a href=\"https://nbviewer.jupyter.org/\">NBViewer</a>),\n",
       "  it may mean that your frontend doesn't currently support widgets.\n",
       "</p>\n"
      ],
      "text/plain": [
       "NGLWidget(count=1001)"
      ]
     },
     "metadata": {},
     "output_type": "display_data"
    }
   ],
   "source": [
    "view = ham_fast.animate_structure()\n",
    "view"
   ]
  },
  {
   "cell_type": "markdown",
   "metadata": {},
   "source": [
    "We can now plot the trajectories"
   ]
  },
  {
   "cell_type": "code",
   "execution_count": 13,
   "metadata": {},
   "outputs": [
    {
     "data": {
      "text/plain": [
       "[<matplotlib.lines.Line2D at 0x2b8396e47cf8>]"
      ]
     },
     "execution_count": 13,
     "metadata": {},
     "output_type": "execute_result"
    },
    {
     "data": {
      "image/png": "[encoded data removed]",
      "text/plain": [
       "<matplotlib.figure.Figure at 0x2b8396debdd8>"
      ]
     },
     "metadata": {},
     "output_type": "display_data"
    }
   ],
   "source": [
    "plt.plot(ham_fast[\"output/generic/energy_pot\"])"
   ]
  },
  {
   "cell_type": "code",
   "execution_count": 14,
   "metadata": {},
   "outputs": [
    {
     "data": {
      "text/plain": [
       "[<matplotlib.lines.Line2D at 0x2b8396de0278>]"
      ]
     },
     "execution_count": 14,
     "metadata": {},
     "output_type": "execute_result"
    },
    {
     "data": {
      "image/png": "[encoded data removed]",
      "text/plain": [
       "<matplotlib.figure.Figure at 0x2b8396df62b0>"
      ]
     },
     "metadata": {},
     "output_type": "display_data"
    }
   ],
   "source": [
    "plt.plot(ham_fast[\"output/generic/temperatures\"])"
   ]
  },
  {
   "cell_type": "markdown",
   "metadata": {},
   "source": [
    "## Computing neighbors and further analysis\n",
    "\n",
    "We will now use the `get_neighbors()` function to compute structural properties during the course of the simulation. We take advantage of the fact that the TIP3P water model is a rigid water model which means the neighbors need to be indexed only once"
   ]
  },
  {
   "cell_type": "code",
   "execution_count": 15,
   "metadata": {},
   "outputs": [],
   "source": [
    "final_struct = ham_fast.get_structure(iteration_step=-1)\n",
    "\n",
    "# Get the indices based on species\n",
    "O_indices = final_struct.select_index(\"O\")\n",
    "H_indices = final_struct.select_index(\"H\")\n",
    "\n",
    "# Getting only the first two neighbors\n",
    "neighbors = final_struct.get_neighbors(num_neighbors=2)"
   ]
  },
  {
   "cell_type": "markdown",
   "metadata": {},
   "source": [
    "### Distribution of the O-H bond length\n",
    "\n",
    "The immediate two neighbors of every O atom has to be H atoms"
   ]
  },
  {
   "cell_type": "code",
   "execution_count": 16,
   "metadata": {},
   "outputs": [
    {
     "data": {
      "image/png": "[encoded data removed]",
      "text/plain": [
       "<matplotlib.figure.Figure at 0x2b8396dbeb38>"
      ]
     },
     "metadata": {},
     "output_type": "display_data"
    }
   ],
   "source": [
    "bins = np.linspace(0.5, 1.5, 100)\n",
    "_ = plt.hist(np.hstack(neighbors.distances[O_indices]), bins=bins)\n",
    "plt.xlim(0.5, 1.5)\n",
    "plt.xlabel(\"d$_{OH}$ [$\\AA$]\")\n",
    "plt.ylabel(\"Count\");"
   ]
  },
  {
   "cell_type": "markdown",
   "metadata": {},
   "source": [
    "### Distribution of the O-O bond lengths\n",
    "\n",
    "Here we need to compute more neighbors than the nearest 2. We could also do this using a cutoff distance"
   ]
  },
  {
   "cell_type": "code",
   "execution_count": 17,
   "metadata": {},
   "outputs": [],
   "source": [
    "neighbors = final_struct.get_neighbors(cutoff=8)"
   ]
  },
  {
   "cell_type": "code",
   "execution_count": 18,
   "metadata": {},
   "outputs": [],
   "source": [
    "neigh_indices = np.hstack(neighbors.indices[O_indices])\n",
    "neigh_distances = np.hstack(neighbors.distances[O_indices])"
   ]
  },
  {
   "cell_type": "markdown",
   "metadata": {},
   "source": [
    "We now need only the distances between the O atoms. We can exclude the H atoms using a few simple index manipulation steps"
   ]
  },
  {
   "cell_type": "code",
   "execution_count": 19,
   "metadata": {},
   "outputs": [],
   "source": [
    "O_neigh_indices  = in1d(neigh_indices, O_indices)\n",
    "O_neigh_distances = neigh_distances[O_neigh_indices]"
   ]
  },
  {
   "cell_type": "code",
   "execution_count": 20,
   "metadata": {},
   "outputs": [
    {
     "data": {
      "image/png": "[encoded data removed]",
      "text/plain": [
       "<matplotlib.figure.Figure at 0x2b83972afcc0>"
      ]
     },
     "metadata": {},
     "output_type": "display_data"
    }
   ],
   "source": [
    "bins = np.linspace(1, 5, 100)\n",
    "count = plt.hist(O_neigh_distances, bins=bins)\n",
    "plt.xlim(2, 4)\n",
    "plt.xlabel(\"d$_{OO}$ [$\\AA$]\")\n",
    "plt.ylabel(\"Count\");"
   ]
  },
  {
   "cell_type": "code",
   "execution_count": null,
   "metadata": {},
   "outputs": [],
   "source": []
  }
 ],
 "metadata": {
  "kernelspec": {
   "display_name": "Python [conda root]",
   "language": "python",
   "name": "conda-root-py"
  },
  "language_info": {
   "codemirror_mode": {
    "name": "ipython",
    "version": 3
   },
   "file_extension": ".py",
   "mimetype": "text/x-python",
   "name": "python",
   "nbconvert_exporter": "python",
   "pygments_lexer": "ipython3",
   "version": "3.5.4"
  },
  "latex_envs": {
   "LaTeX_envs_menu_present": true,
   "autocomplete": true,
   "bibliofile": "biblio.bib",
   "cite_by": "apalike",
   "current_citInitial": 1,
   "eqLabelWithNumbers": true,
   "eqNumInitial": 1,
   "hotkeys": {
    "equation": "Ctrl-E",
    "itemize": "Ctrl-I"
   },
   "labels_anchors": false,
   "latex_user_defs": false,
   "report_style_numbering": false,
   "user_envs_cfg": false
  },
  "toc": {
   "nav_menu": {},
   "number_sections": true,
   "sideBar": true,
   "skip_h1_title": false,
   "toc_cell": false,
   "toc_position": {},
   "toc_section_display": "block",
   "toc_window_display": false
  }
 },
 "nbformat": 4,
 "nbformat_minor": 2
}
